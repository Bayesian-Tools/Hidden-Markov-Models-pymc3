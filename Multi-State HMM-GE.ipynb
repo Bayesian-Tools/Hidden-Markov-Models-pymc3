{
 "cells": [
  {
   "cell_type": "code",
   "execution_count": 1,
   "metadata": {
    "collapsed": true
   },
   "outputs": [],
   "source": [
    "%matplotlib inline\n",
    "import numpy as np\n",
    "import matplotlib.pyplot as plt\n",
    "import theano.tensor as tt\n",
    "import theano"
   ]
  },
  {
   "cell_type": "code",
   "execution_count": 2,
   "metadata": {
    "collapsed": false
   },
   "outputs": [],
   "source": [
    "a=np.arange(3)"
   ]
  },
  {
   "cell_type": "code",
   "execution_count": 3,
   "metadata": {
    "collapsed": false
   },
   "outputs": [
    {
     "data": {
      "text/plain": [
       "array([[ 0.8 ,  0.1 ,  0.1 ],\n",
       "       [ 0.05,  0.9 ,  0.05],\n",
       "       [ 0.15,  0.15,  0.7 ]])"
      ]
     },
     "execution_count": 3,
     "metadata": {},
     "output_type": "execute_result"
    }
   ],
   "source": [
    "P=np.array([[0.8,0.1,0.1],[0.05,0.9,0.05],[0.15,0.15,0.7]])\n",
    "P"
   ]
  },
  {
   "cell_type": "code",
   "execution_count": 4,
   "metadata": {
    "collapsed": false
   },
   "outputs": [
    {
     "data": {
      "text/plain": [
       "array([[ 0.8 ,  0.1 ],\n",
       "       [ 0.05,  0.9 ],\n",
       "       [ 0.15,  0.15]])"
      ]
     },
     "execution_count": 4,
     "metadata": {},
     "output_type": "execute_result"
    }
   ],
   "source": [
    "P[:,:-1]"
   ]
  },
  {
   "cell_type": "code",
   "execution_count": 5,
   "metadata": {
    "collapsed": true
   },
   "outputs": [],
   "source": [
    "def unconditionalProbability(Ptrans):\n",
    "   \"\"\"Compute the unconditional probability for the states of a\n",
    "   Markov chain.\"\"\"\n",
    "\n",
    "   m = Ptrans.shape[0]\n",
    "\n",
    "   P = np.column_stack((Ptrans, 1. - Ptrans.sum(axis=1)))\n",
    "\n",
    "   I = np.eye(m)\n",
    "   U = np.ones((m, m))\n",
    "   u = np.ones(m)\n",
    "\n",
    "   return np.linalg.solve((I - P + U).T, u)\n"
   ]
  },
  {
   "cell_type": "code",
   "execution_count": 6,
   "metadata": {
    "collapsed": false
   },
   "outputs": [
    {
     "name": "stdout",
     "output_type": "stream",
     "text": [
      "[ 0.27272727  0.54545455  0.18181818]\n",
      "1.0\n"
     ]
    }
   ],
   "source": [
    "# equilibrium probabilities\n",
    "PU = unconditionalProbability(P[:,:-1])\n",
    "print(PU)\n",
    "print(np.sum(PU))"
   ]
  },
  {
   "cell_type": "code",
   "execution_count": 7,
   "metadata": {
    "collapsed": false
   },
   "outputs": [
    {
     "name": "stdout",
     "output_type": "stream",
     "text": [
      "[ 0.1   0.05  0.7 ]\n",
      "[[ 0.8   0.1   0.1 ]\n",
      " [ 0.05  0.9   0.05]\n",
      " [ 0.15  0.15  0.7 ]]\n"
     ]
    }
   ],
   "source": [
    "Pt=P[:,:-1]\n",
    "print(1. - Pt.sum(axis=1))\n",
    "print(np.concatenate((Pt.T,[1. - Pt.sum(axis=1)])).T)"
   ]
  },
  {
   "cell_type": "code",
   "execution_count": 8,
   "metadata": {
    "collapsed": false
   },
   "outputs": [
    {
     "data": {
      "text/plain": [
       "\"\\nPt = tt.dmatrix('Pt')\\nP = tt.column_stack((Pt, 1. - Pt.sum(axis=1)))\\nm = Pt.shape[0]\\nPA = tt.slinalg.Solve((tt.eye(m) - P + tt.ones(m,m)).T, tt.ones(m))\\nequilibrium_probability = theano.function(Pt,PA)\\n\""
      ]
     },
     "execution_count": 8,
     "metadata": {},
     "output_type": "execute_result"
    }
   ],
   "source": [
    "\"\"\"\n",
    "Pt = tt.dmatrix('Pt')\n",
    "P = tt.column_stack((Pt, 1. - Pt.sum(axis=1)))\n",
    "m = Pt.shape[0]\n",
    "PA = tt.slinalg.Solve((tt.eye(m) - P + tt.ones(m,m)).T, tt.ones(m))\n",
    "equilibrium_probability = theano.function(Pt,PA)\n",
    "\"\"\""
   ]
  },
  {
   "cell_type": "code",
   "execution_count": 9,
   "metadata": {
    "collapsed": false
   },
   "outputs": [
    {
     "name": "stdout",
     "output_type": "stream",
     "text": [
      "[1]\n"
     ]
    }
   ],
   "source": [
    "# create a sample\n",
    "firstpoint = np.random.choice(3, 1, p=PU)\n",
    "print(firstpoint)\n",
    "sample = [firstpoint[0]]\n",
    "sample\n",
    "for i in range(1,1000):\n",
    "    sample = np.concatenate((sample,np.random.choice(3,1,p=P[sample[-1]])))"
   ]
  },
  {
   "cell_type": "code",
   "execution_count": 10,
   "metadata": {
    "collapsed": false
   },
   "outputs": [
    {
     "data": {
      "text/plain": [
       "(array([ 1.485,  0.   ,  0.   ,  0.   ,  0.   ,  2.52 ,  0.   ,  0.   ,\n",
       "         0.   ,  0.995]),\n",
       " array([ 0. ,  0.2,  0.4,  0.6,  0.8,  1. ,  1.2,  1.4,  1.6,  1.8,  2. ]),\n",
       " <a list of 10 Patch objects>)"
      ]
     },
     "execution_count": 10,
     "metadata": {},
     "output_type": "execute_result"
    },
    {
     "data": {
      "image/png": "[encoded data removed]",
      "text/plain": [
       "<matplotlib.figure.Figure at 0x10db90208>"
      ]
     },
     "metadata": {},
     "output_type": "display_data"
    }
   ],
   "source": [
    "plt.hist(sample, normed=True)"
   ]
  },
  {
   "cell_type": "code",
   "execution_count": 11,
   "metadata": {
    "collapsed": false
   },
   "outputs": [
    {
     "data": {
      "text/plain": [
       "(-0.2, 2.2)"
      ]
     },
     "execution_count": 11,
     "metadata": {},
     "output_type": "execute_result"
    },
    {
     "data": {
      "image/png": "[encoded data removed]",
      "text/plain": [
       "<matplotlib.figure.Figure at 0x10dbb5fd0>"
      ]
     },
     "metadata": {},
     "output_type": "display_data"
    }
   ],
   "source": [
    "plt.plot(sample[:1000], drawstyle='steps-mid')\n",
    "plt.ylim((-0.2,2.2))"
   ]
  },
  {
   "cell_type": "code",
   "execution_count": 12,
   "metadata": {
    "collapsed": false
   },
   "outputs": [
    {
     "data": {
      "text/plain": [
       "[<matplotlib.lines.Line2D at 0x1105f8048>]"
      ]
     },
     "execution_count": 12,
     "metadata": {},
     "output_type": "execute_result"
    },
    {
     "data": {
      "image/png": "[encoded data removed]",
      "text/plain": [
       "<matplotlib.figure.Figure at 0x1105f84e0>"
      ]
     },
     "metadata": {},
     "output_type": "display_data"
    }
   ],
   "source": [
    "measurement = sample + 0.3*np.random.randn(1000)\n",
    "plt.plot(measurement[:100])\n",
    "plt.plot(sample[:100], drawstyle='steps-mid')"
   ]
  },
  {
   "cell_type": "code",
   "execution_count": 13,
   "metadata": {
    "collapsed": false
   },
   "outputs": [
    {
     "data": {
      "text/plain": [
       "array([[[ 0.8 ,  0.05,  0.15],\n",
       "        [ 0.1 ,  0.9 ,  0.15],\n",
       "        [ 0.1 ,  0.05,  0.7 ]],\n",
       "\n",
       "       [[ 0.8 ,  0.05,  0.15],\n",
       "        [ 0.1 ,  0.9 ,  0.15],\n",
       "        [ 0.1 ,  0.05,  0.7 ]],\n",
       "\n",
       "       [[ 0.8 ,  0.05,  0.15],\n",
       "        [ 0.1 ,  0.9 ,  0.15],\n",
       "        [ 0.1 ,  0.05,  0.7 ]],\n",
       "\n",
       "       [[ 0.8 ,  0.05,  0.15],\n",
       "        [ 0.1 ,  0.9 ,  0.15],\n",
       "        [ 0.1 ,  0.05,  0.7 ]],\n",
       "\n",
       "       [[ 0.8 ,  0.05,  0.15],\n",
       "        [ 0.1 ,  0.9 ,  0.15],\n",
       "        [ 0.1 ,  0.05,  0.7 ]],\n",
       "\n",
       "       [[ 0.8 ,  0.05,  0.15],\n",
       "        [ 0.1 ,  0.9 ,  0.15],\n",
       "        [ 0.1 ,  0.05,  0.7 ]],\n",
       "\n",
       "       [[ 0.8 ,  0.05,  0.15],\n",
       "        [ 0.1 ,  0.9 ,  0.15],\n",
       "        [ 0.1 ,  0.05,  0.7 ]],\n",
       "\n",
       "       [[ 0.8 ,  0.05,  0.15],\n",
       "        [ 0.1 ,  0.9 ,  0.15],\n",
       "        [ 0.1 ,  0.05,  0.7 ]],\n",
       "\n",
       "       [[ 0.8 ,  0.05,  0.15],\n",
       "        [ 0.1 ,  0.9 ,  0.15],\n",
       "        [ 0.1 ,  0.05,  0.7 ]],\n",
       "\n",
       "       [[ 0.8 ,  0.05,  0.15],\n",
       "        [ 0.1 ,  0.9 ,  0.15],\n",
       "        [ 0.1 ,  0.05,  0.7 ]]])"
      ]
     },
     "execution_count": 13,
     "metadata": {},
     "output_type": "execute_result"
    }
   ],
   "source": [
    "# now we want to create a P matrix that reflects the states\n",
    "PT = np.tile(P.T,(10,1,1))\n",
    "PT"
   ]
  },
  {
   "cell_type": "code",
   "execution_count": 14,
   "metadata": {
    "collapsed": false
   },
   "outputs": [
    {
     "data": {
      "text/plain": [
       "array([[ 0.05,  0.9 ,  0.05],\n",
       "       [ 0.05,  0.9 ,  0.05],\n",
       "       [ 0.05,  0.9 ,  0.05],\n",
       "       [ 0.05,  0.9 ,  0.05],\n",
       "       [ 0.8 ,  0.1 ,  0.1 ],\n",
       "       [ 0.05,  0.9 ,  0.05],\n",
       "       [ 0.05,  0.9 ,  0.05],\n",
       "       [ 0.05,  0.9 ,  0.05],\n",
       "       [ 0.05,  0.9 ,  0.05],\n",
       "       [ 0.8 ,  0.1 ,  0.1 ]])"
      ]
     },
     "execution_count": 14,
     "metadata": {},
     "output_type": "execute_result"
    }
   ],
   "source": [
    "PS = np.choose(sample[:10],PT.T).T\n",
    "PS"
   ]
  },
  {
   "cell_type": "code",
   "execution_count": 15,
   "metadata": {
    "collapsed": false
   },
   "outputs": [
    {
     "data": {
      "text/plain": [
       "array([1, 1, 1, 1, 0, 1, 1, 1, 1, 0])"
      ]
     },
     "execution_count": 15,
     "metadata": {},
     "output_type": "execute_result"
    }
   ],
   "source": [
    "sample[:10]"
   ]
  },
  {
   "cell_type": "code",
   "execution_count": 16,
   "metadata": {
    "collapsed": false
   },
   "outputs": [],
   "source": [
    "import pymc3 as pm\n",
    "import theano.tensor as tt\n",
    "import theano.tensor.slinalg as sla\n",
    "import theano.tensor.nlinalg as nla\n",
    "# Two state model for simplicity.\n",
    "N_states = 3\n",
    "N_chain = len(sample)\n",
    "\n",
    "# Transition probability stochastic\n",
    "theta = np.ones((N_states,N_states)) + 1.\n",
    "alphaA = np.ones(N_states)*2.1\n",
    "betaA = np.ones(N_states)*1.1\n",
    "alphaS = np.ones(N_states)*2.1\n",
    "betaS = np.ones(N_states)*1.1"
   ]
  },
  {
   "cell_type": "code",
   "execution_count": 17,
   "metadata": {
    "collapsed": false
   },
   "outputs": [],
   "source": [
    "class HMMStatesN(pm.Discrete):\n",
    "    \"\"\"\n",
    "    Hidden Markov Model States\n",
    "    Parameters\n",
    "    ----------\n",
    "    P : tensor\n",
    "        transition probability\n",
    "        shape = (N_states,N_states)\n",
    "        \n",
    "    PA : tensor\n",
    "         equilibrium probabilities\n",
    "         shape = (N_states)\n",
    "    \n",
    "    \"\"\"\n",
    "\n",
    "    def __init__(self, PA=None, P=None,\n",
    "                 *args, **kwargs):\n",
    "        super(HMMStatesN, self).__init__(*args, **kwargs)\n",
    "        self.P = P\n",
    "        self.PA = PA\n",
    "        self.mode = tt.cast(0,dtype='int64')\n",
    "\n",
    "    def logp(self, x):\n",
    "        P = self.P\n",
    "        PA = self.PA\n",
    "        \n",
    "        # calculate equilibrium\n",
    "        \n",
    "        # now we need to create an array with probabilities\n",
    "        # so that for x=A: PA=P1, PB=(1-P1)\n",
    "        # and for x=B: PA=P2, PB=(1-P2)\n",
    "        #P = tt.switch(x[:-1],P1,P2)\n",
    "        length = x.shape[0]\n",
    "        PT = tt.tile(P.T,(length-1,1,1))\n",
    "\n",
    "        PS = tt.choose(x[:-1],PT.T).T\n",
    "        \n",
    "        x_i = x[1:]\n",
    "        ou_like = pm.Categorical.dist(PS).logp(x_i)\n",
    "        return pm.Categorical.dist(PA).logp(x[0]) + tt.sum(ou_like)\n"
   ]
  },
  {
   "cell_type": "code",
   "execution_count": 21,
   "metadata": {
    "collapsed": true
   },
   "outputs": [],
   "source": [
    "class HMMGaussianEmmisionsN(pm.Continuous):\n",
    "    \"\"\"\n",
    "    Hidden Markov Model Gaussian Emmisions\n",
    "    Parameters\n",
    "    ----------\n",
    "    A : tensor\n",
    "        prior for Gaussian emmision mu\n",
    "        shape = (2,N_states)\n",
    "        \n",
    "    S : tensor\n",
    "        prior for Gaussian emmision width\n",
    "        shape = (2,N_states)\n",
    "    \n",
    "    states : tensor\n",
    "         equilibrium probabilities\n",
    "         shape = (N_states)\n",
    "    \n",
    "    \"\"\"\n",
    "\n",
    "    def __init__(self, A=None, S=None, states=None,\n",
    "                 *args, **kwargs):\n",
    "        super(HMMGaussianEmmisionsN, self).__init__(*args, **kwargs)\n",
    "        self.A = A\n",
    "        self.S = S\n",
    "        self.states = states\n",
    "        self.mean = 0.\n",
    "\n",
    "    def logp(self, x):\n",
    "        A = self.A\n",
    "        S = self.S\n",
    "        states = self.states\n",
    "        \n",
    "        AS = A[states]        \n",
    "        SS = S[states]\n",
    "        \n",
    "        ou_like = pm.Normal.dist(mu=AS,sd=SS).logp(x)\n",
    "        return tt.sum(ou_like)\n"
   ]
  },
  {
   "cell_type": "code",
   "execution_count": 23,
   "metadata": {
    "collapsed": false
   },
   "outputs": [
    {
     "name": "stderr",
     "output_type": "stream",
     "text": [
      "Warning: gradient not available.(E.g. vars contains discrete variables). MAP estimates may not be accurate for the default parameters. Defaulting to non-gradient minimization fmin_powell.\n"
     ]
    },
    {
     "name": "stdout",
     "output_type": "stream",
     "text": [
      "Optimization terminated successfully.\n",
      "         Current function value: 1156.276992\n",
      "         Iterations: 2\n",
      "         Function evaluations: 316\n"
     ]
    },
    {
     "name": "stderr",
     "output_type": "stream",
     "text": [
      "/Users/hstrey/anaconda/envs/python3/lib/python3.5/site-packages/ipykernel/__main__.py:24: DeprecationWarning: ElemwiseCategorical is deprecated, switch to CategoricalGibbsMetropolis.\n",
      "\n",
      "\n",
      "\n",
      "  0%|          | 0/10000 [00:00<?, ?it/s]\u001b[A\u001b[A\u001b[A"
     ]
    },
    {
     "ename": "ValueError",
     "evalue": "Iterator input op_axes[0][0] (==1) is not a valid axis of op[0], which has 1 dimensions ",
     "output_type": "error",
     "traceback": [
      "\u001b[0;31m---------------------------------------------------------------------------\u001b[0m",
      "\u001b[0;31mValueError\u001b[0m                                Traceback (most recent call last)",
      "\u001b[0;32m<ipython-input-23-4f3b2b548bfd>\u001b[0m in \u001b[0;36m<module>\u001b[0;34m()\u001b[0m\n\u001b[1;32m     23\u001b[0m     \u001b[0mstep1\u001b[0m \u001b[0;34m=\u001b[0m \u001b[0mpm\u001b[0m\u001b[0;34m.\u001b[0m\u001b[0mMetropolis\u001b[0m\u001b[0;34m(\u001b[0m\u001b[0mvars\u001b[0m\u001b[0;34m=\u001b[0m\u001b[0;34m[\u001b[0m\u001b[0mP\u001b[0m\u001b[0;34m,\u001b[0m\u001b[0mA\u001b[0m\u001b[0;34m,\u001b[0m\u001b[0mS\u001b[0m\u001b[0;34m,\u001b[0m\u001b[0mPA\u001b[0m\u001b[0;34m,\u001b[0m\u001b[0memmision\u001b[0m\u001b[0;34m]\u001b[0m\u001b[0;34m)\u001b[0m\u001b[0;34m\u001b[0m\u001b[0m\n\u001b[1;32m     24\u001b[0m     \u001b[0mstep2\u001b[0m \u001b[0;34m=\u001b[0m \u001b[0mpm\u001b[0m\u001b[0;34m.\u001b[0m\u001b[0mElemwiseCategorical\u001b[0m\u001b[0;34m(\u001b[0m\u001b[0mvars\u001b[0m\u001b[0;34m=\u001b[0m\u001b[0;34m[\u001b[0m\u001b[0mstates\u001b[0m\u001b[0;34m]\u001b[0m\u001b[0;34m,\u001b[0m \u001b[0mvalues\u001b[0m\u001b[0;34m=\u001b[0m\u001b[0;34m[\u001b[0m\u001b[0;36m0\u001b[0m\u001b[0;34m,\u001b[0m\u001b[0;36m1\u001b[0m\u001b[0;34m]\u001b[0m\u001b[0;34m)\u001b[0m\u001b[0;34m\u001b[0m\u001b[0m\n\u001b[0;32m---> 25\u001b[0;31m     \u001b[0mtrace\u001b[0m \u001b[0;34m=\u001b[0m \u001b[0mpm\u001b[0m\u001b[0;34m.\u001b[0m\u001b[0msample\u001b[0m\u001b[0;34m(\u001b[0m\u001b[0;36m10000\u001b[0m\u001b[0;34m,\u001b[0m \u001b[0mstart\u001b[0m\u001b[0;34m=\u001b[0m\u001b[0mstart\u001b[0m\u001b[0;34m,\u001b[0m \u001b[0mstep\u001b[0m\u001b[0;34m=\u001b[0m\u001b[0;34m[\u001b[0m\u001b[0mstep1\u001b[0m\u001b[0;34m,\u001b[0m\u001b[0mstep2\u001b[0m\u001b[0;34m]\u001b[0m\u001b[0;34m)\u001b[0m\u001b[0;34m\u001b[0m\u001b[0m\n\u001b[0m",
      "\u001b[0;32m/Users/hstrey/anaconda/envs/python3/lib/python3.5/site-packages/pymc3/sampling.py\u001b[0m in \u001b[0;36msample\u001b[0;34m(draws, step, init, n_init, start, trace, chain, njobs, tune, progressbar, model, random_seed)\u001b[0m\n\u001b[1;32m    173\u001b[0m         \u001b[0msample_func\u001b[0m \u001b[0;34m=\u001b[0m \u001b[0m_sample\u001b[0m\u001b[0;34m\u001b[0m\u001b[0m\n\u001b[1;32m    174\u001b[0m \u001b[0;34m\u001b[0m\u001b[0m\n\u001b[0;32m--> 175\u001b[0;31m     \u001b[0;32mreturn\u001b[0m \u001b[0msample_func\u001b[0m\u001b[0;34m(\u001b[0m\u001b[0;34m**\u001b[0m\u001b[0msample_args\u001b[0m\u001b[0;34m)\u001b[0m\u001b[0;34m\u001b[0m\u001b[0m\n\u001b[0m\u001b[1;32m    176\u001b[0m \u001b[0;34m\u001b[0m\u001b[0m\n\u001b[1;32m    177\u001b[0m \u001b[0;34m\u001b[0m\u001b[0m\n",
      "\u001b[0;32m/Users/hstrey/anaconda/envs/python3/lib/python3.5/site-packages/pymc3/sampling.py\u001b[0m in \u001b[0;36m_sample\u001b[0;34m(draws, step, start, trace, chain, tune, progressbar, model, random_seed)\u001b[0m\n\u001b[1;32m    183\u001b[0m         \u001b[0msampling\u001b[0m \u001b[0;34m=\u001b[0m \u001b[0mtqdm\u001b[0m\u001b[0;34m(\u001b[0m\u001b[0msampling\u001b[0m\u001b[0;34m,\u001b[0m \u001b[0mtotal\u001b[0m\u001b[0;34m=\u001b[0m\u001b[0mdraws\u001b[0m\u001b[0;34m)\u001b[0m\u001b[0;34m\u001b[0m\u001b[0m\n\u001b[1;32m    184\u001b[0m     \u001b[0;32mtry\u001b[0m\u001b[0;34m:\u001b[0m\u001b[0;34m\u001b[0m\u001b[0m\n\u001b[0;32m--> 185\u001b[0;31m         \u001b[0;32mfor\u001b[0m \u001b[0mstrace\u001b[0m \u001b[0;32min\u001b[0m \u001b[0msampling\u001b[0m\u001b[0;34m:\u001b[0m\u001b[0;34m\u001b[0m\u001b[0m\n\u001b[0m\u001b[1;32m    186\u001b[0m             \u001b[0;32mpass\u001b[0m\u001b[0;34m\u001b[0m\u001b[0m\n\u001b[1;32m    187\u001b[0m     \u001b[0;32mexcept\u001b[0m \u001b[0mKeyboardInterrupt\u001b[0m\u001b[0;34m:\u001b[0m\u001b[0;34m\u001b[0m\u001b[0m\n",
      "\u001b[0;32m/Users/hstrey/anaconda/envs/python3/lib/python3.5/site-packages/tqdm/_tqdm.py\u001b[0m in \u001b[0;36m__iter__\u001b[0;34m(self)\u001b[0m\n\u001b[1;32m    814\u001b[0m \"\"\", fp_write=getattr(self.fp, 'write', sys.stderr.write))\n\u001b[1;32m    815\u001b[0m \u001b[0;34m\u001b[0m\u001b[0m\n\u001b[0;32m--> 816\u001b[0;31m             \u001b[0;32mfor\u001b[0m \u001b[0mobj\u001b[0m \u001b[0;32min\u001b[0m \u001b[0miterable\u001b[0m\u001b[0;34m:\u001b[0m\u001b[0;34m\u001b[0m\u001b[0m\n\u001b[0m\u001b[1;32m    817\u001b[0m                 \u001b[0;32myield\u001b[0m \u001b[0mobj\u001b[0m\u001b[0;34m\u001b[0m\u001b[0m\n\u001b[1;32m    818\u001b[0m                 \u001b[0;31m# Update and print the progressbar.\u001b[0m\u001b[0;34m\u001b[0m\u001b[0;34m\u001b[0m\u001b[0m\n",
      "\u001b[0;32m/Users/hstrey/anaconda/envs/python3/lib/python3.5/site-packages/pymc3/sampling.py\u001b[0m in \u001b[0;36m_iter_sample\u001b[0;34m(draws, step, start, trace, chain, tune, model, random_seed)\u001b[0m\n\u001b[1;32m    265\u001b[0m         \u001b[0;32mif\u001b[0m \u001b[0mi\u001b[0m \u001b[0;34m==\u001b[0m \u001b[0mtune\u001b[0m\u001b[0;34m:\u001b[0m\u001b[0;34m\u001b[0m\u001b[0m\n\u001b[1;32m    266\u001b[0m             \u001b[0mstep\u001b[0m \u001b[0;34m=\u001b[0m \u001b[0mstop_tuning\u001b[0m\u001b[0;34m(\u001b[0m\u001b[0mstep\u001b[0m\u001b[0;34m)\u001b[0m\u001b[0;34m\u001b[0m\u001b[0m\n\u001b[0;32m--> 267\u001b[0;31m         \u001b[0mpoint\u001b[0m \u001b[0;34m=\u001b[0m \u001b[0mstep\u001b[0m\u001b[0;34m.\u001b[0m\u001b[0mstep\u001b[0m\u001b[0;34m(\u001b[0m\u001b[0mpoint\u001b[0m\u001b[0;34m)\u001b[0m\u001b[0;34m\u001b[0m\u001b[0m\n\u001b[0m\u001b[1;32m    268\u001b[0m         \u001b[0mstrace\u001b[0m\u001b[0;34m.\u001b[0m\u001b[0mrecord\u001b[0m\u001b[0;34m(\u001b[0m\u001b[0mpoint\u001b[0m\u001b[0;34m)\u001b[0m\u001b[0;34m\u001b[0m\u001b[0m\n\u001b[1;32m    269\u001b[0m         \u001b[0;32myield\u001b[0m \u001b[0mstrace\u001b[0m\u001b[0;34m\u001b[0m\u001b[0m\n",
      "\u001b[0;32m/Users/hstrey/anaconda/envs/python3/lib/python3.5/site-packages/pymc3/step_methods/compound.py\u001b[0m in \u001b[0;36mstep\u001b[0;34m(self, point)\u001b[0m\n\u001b[1;32m     14\u001b[0m     \u001b[0;32mdef\u001b[0m \u001b[0mstep\u001b[0m\u001b[0;34m(\u001b[0m\u001b[0mself\u001b[0m\u001b[0;34m,\u001b[0m \u001b[0mpoint\u001b[0m\u001b[0;34m)\u001b[0m\u001b[0;34m:\u001b[0m\u001b[0;34m\u001b[0m\u001b[0m\n\u001b[1;32m     15\u001b[0m         \u001b[0;32mfor\u001b[0m \u001b[0mmethod\u001b[0m \u001b[0;32min\u001b[0m \u001b[0mself\u001b[0m\u001b[0;34m.\u001b[0m\u001b[0mmethods\u001b[0m\u001b[0;34m:\u001b[0m\u001b[0;34m\u001b[0m\u001b[0m\n\u001b[0;32m---> 16\u001b[0;31m             \u001b[0mpoint\u001b[0m \u001b[0;34m=\u001b[0m \u001b[0mmethod\u001b[0m\u001b[0;34m.\u001b[0m\u001b[0mstep\u001b[0m\u001b[0;34m(\u001b[0m\u001b[0mpoint\u001b[0m\u001b[0;34m)\u001b[0m\u001b[0;34m\u001b[0m\u001b[0m\n\u001b[0m\u001b[1;32m     17\u001b[0m         \u001b[0;32mreturn\u001b[0m \u001b[0mpoint\u001b[0m\u001b[0;34m\u001b[0m\u001b[0m\n",
      "\u001b[0;32m/Users/hstrey/anaconda/envs/python3/lib/python3.5/site-packages/pymc3/step_methods/arraystep.py\u001b[0m in \u001b[0;36mstep\u001b[0;34m(self, point)\u001b[0m\n\u001b[1;32m    110\u001b[0m             \u001b[0minputs\u001b[0m\u001b[0;34m.\u001b[0m\u001b[0mappend\u001b[0m\u001b[0;34m(\u001b[0m\u001b[0mpoint\u001b[0m\u001b[0;34m)\u001b[0m\u001b[0;34m\u001b[0m\u001b[0m\n\u001b[1;32m    111\u001b[0m \u001b[0;34m\u001b[0m\u001b[0m\n\u001b[0;32m--> 112\u001b[0;31m         \u001b[0mapoint\u001b[0m \u001b[0;34m=\u001b[0m \u001b[0mself\u001b[0m\u001b[0;34m.\u001b[0m\u001b[0mastep\u001b[0m\u001b[0;34m(\u001b[0m\u001b[0mbij\u001b[0m\u001b[0;34m.\u001b[0m\u001b[0mmap\u001b[0m\u001b[0;34m(\u001b[0m\u001b[0mpoint\u001b[0m\u001b[0;34m)\u001b[0m\u001b[0;34m,\u001b[0m \u001b[0;34m*\u001b[0m\u001b[0minputs\u001b[0m\u001b[0;34m)\u001b[0m\u001b[0;34m\u001b[0m\u001b[0m\n\u001b[0m\u001b[1;32m    113\u001b[0m         \u001b[0;32mreturn\u001b[0m \u001b[0mbij\u001b[0m\u001b[0;34m.\u001b[0m\u001b[0mrmap\u001b[0m\u001b[0;34m(\u001b[0m\u001b[0mapoint\u001b[0m\u001b[0;34m)\u001b[0m\u001b[0;34m\u001b[0m\u001b[0m\n\u001b[1;32m    114\u001b[0m \u001b[0;34m\u001b[0m\u001b[0m\n",
      "\u001b[0;32m/Users/hstrey/anaconda/envs/python3/lib/python3.5/site-packages/pymc3/step_methods/gibbs.py\u001b[0m in \u001b[0;36mastep\u001b[0;34m(self, q, logp)\u001b[0m\n\u001b[1;32m     42\u001b[0m     \u001b[0;32mdef\u001b[0m \u001b[0mastep\u001b[0m\u001b[0;34m(\u001b[0m\u001b[0mself\u001b[0m\u001b[0;34m,\u001b[0m \u001b[0mq\u001b[0m\u001b[0;34m,\u001b[0m \u001b[0mlogp\u001b[0m\u001b[0;34m)\u001b[0m\u001b[0;34m:\u001b[0m\u001b[0;34m\u001b[0m\u001b[0m\n\u001b[1;32m     43\u001b[0m         \u001b[0mp\u001b[0m \u001b[0;34m=\u001b[0m \u001b[0marray\u001b[0m\u001b[0;34m(\u001b[0m\u001b[0;34m[\u001b[0m\u001b[0mlogp\u001b[0m\u001b[0;34m(\u001b[0m\u001b[0mv\u001b[0m \u001b[0;34m*\u001b[0m \u001b[0mself\u001b[0m\u001b[0;34m.\u001b[0m\u001b[0msh\u001b[0m\u001b[0;34m)\u001b[0m \u001b[0;32mfor\u001b[0m \u001b[0mv\u001b[0m \u001b[0;32min\u001b[0m \u001b[0mself\u001b[0m\u001b[0;34m.\u001b[0m\u001b[0mvalues\u001b[0m\u001b[0;34m]\u001b[0m\u001b[0;34m)\u001b[0m\u001b[0;34m\u001b[0m\u001b[0m\n\u001b[0;32m---> 44\u001b[0;31m         \u001b[0;32mreturn\u001b[0m \u001b[0mcategorical\u001b[0m\u001b[0;34m(\u001b[0m\u001b[0mp\u001b[0m\u001b[0;34m,\u001b[0m \u001b[0mself\u001b[0m\u001b[0;34m.\u001b[0m\u001b[0mvar\u001b[0m\u001b[0;34m.\u001b[0m\u001b[0mdshape\u001b[0m\u001b[0;34m)\u001b[0m\u001b[0;34m\u001b[0m\u001b[0m\n\u001b[0m\u001b[1;32m     45\u001b[0m \u001b[0;34m\u001b[0m\u001b[0m\n\u001b[1;32m     46\u001b[0m     \u001b[0;34m@\u001b[0m\u001b[0mstaticmethod\u001b[0m\u001b[0;34m\u001b[0m\u001b[0m\n",
      "\u001b[0;32m/Users/hstrey/anaconda/envs/python3/lib/python3.5/site-packages/pymc3/step_methods/gibbs.py\u001b[0m in \u001b[0;36mcategorical\u001b[0;34m(prob, shape)\u001b[0m\n\u001b[1;32m     65\u001b[0m     it0, it1 = nested_iters([prob, out], [list(range(1, n + 1)), [0]],\n\u001b[1;32m     66\u001b[0m                             \u001b[0mop_flags\u001b[0m\u001b[0;34m=\u001b[0m\u001b[0;34m[\u001b[0m\u001b[0;34m[\u001b[0m\u001b[0;34m'readonly'\u001b[0m\u001b[0;34m]\u001b[0m\u001b[0;34m,\u001b[0m \u001b[0;34m[\u001b[0m\u001b[0;34m'readwrite'\u001b[0m\u001b[0;34m]\u001b[0m\u001b[0;34m]\u001b[0m\u001b[0;34m,\u001b[0m\u001b[0;34m\u001b[0m\u001b[0m\n\u001b[0;32m---> 67\u001b[0;31m                             flags=['reduce_ok'])\n\u001b[0m\u001b[1;32m     68\u001b[0m \u001b[0;34m\u001b[0m\u001b[0m\n\u001b[1;32m     69\u001b[0m     \u001b[0;32mfor\u001b[0m \u001b[0mi\u001b[0m \u001b[0;32min\u001b[0m \u001b[0mit0\u001b[0m\u001b[0;34m:\u001b[0m\u001b[0;34m\u001b[0m\u001b[0m\n",
      "\u001b[0;31mValueError\u001b[0m: Iterator input op_axes[0][0] (==1) is not a valid axis of op[0], which has 1 dimensions "
     ]
    },
    {
     "name": "stderr",
     "output_type": "stream",
     "text": [
      "\n",
      "\u001b[AException in thread Thread-4:\n",
      "Traceback (most recent call last):\n",
      "  File \"/Users/hstrey/anaconda/envs/python3/lib/python3.5/threading.py\", line 914, in _bootstrap_inner\n",
      "    self.run()\n",
      "  File \"/Users/hstrey/anaconda/envs/python3/lib/python3.5/site-packages/tqdm/_tqdm.py\", line 102, in run\n",
      "    for instance in self.tqdm_cls._instances:\n",
      "  File \"/Users/hstrey/anaconda/envs/python3/lib/python3.5/_weakrefset.py\", line 60, in __iter__\n",
      "    for itemref in self.data:\n",
      "RuntimeError: Set changed size during iteration\n",
      "\n"
     ]
    }
   ],
   "source": [
    "from scipy import optimize\n",
    "with pm.Model() as model:\n",
    "    # N_states state model\n",
    "    #P = tt.stack( [pm.Dirichlet('P_'+str(i), a=np.ones(N_states)) for i in range(N_states)] )\n",
    "    \n",
    "    P = pm.Dirichlet('P', a=np.ones((N_states,N_states)), shape=(N_states,N_states))\n",
    "    A = pm.InverseGamma('A',alpha=alphaA, beta=betaA, shape=(N_states))\n",
    "    S = pm.InverseGamma('S', alpha=alphaS, beta=betaS, shape=(N_states))\n",
    "    \n",
    "#    Pfull = tt.dmatrix('Pfull')\n",
    "#    PA = tt.dmatrix('PA')\n",
    "    AA = tt.dmatrix('AA')\n",
    "        \n",
    "    AA = tt.eye(N_states) - P + tt.ones(shape=(N_states,N_states))\n",
    "    \n",
    "    PA = pm.Deterministic('PA',sla.solve(AA.T,tt.ones(shape=(N_states))))\n",
    "    \n",
    "    states = HMMStatesN('states',PA=PA, P=P, shape=(len(measurement)))\n",
    "    \n",
    "    emmision = HMMGaussianEmmisionsN('emmision', A=A, S=S, states=states, observed=measurement)\n",
    "    \n",
    "    start = pm.find_MAP(fmin=optimize.fmin_powell)\n",
    "    step1 = pm.Metropolis(vars=[P,A,S,PA,emmision])\n",
    "    step2 = pm.ElemwiseCategorical(vars=[states], values=[0,1])\n",
    "    trace = pm.sample(10000, start=start, step=[step1,step2])\n"
   ]
  },
  {
   "cell_type": "code",
   "execution_count": null,
   "metadata": {
    "collapsed": false
   },
   "outputs": [],
   "source": [
    "%matplotlib inline\n",
    "pm.traceplot(trace)"
   ]
  },
  {
   "cell_type": "code",
   "execution_count": null,
   "metadata": {
    "collapsed": true
   },
   "outputs": [],
   "source": []
  }
 ],
 "metadata": {
  "anaconda-cloud": {},
  "kernelspec": {
   "display_name": "Python [default]",
   "language": "python",
   "name": "python3"
  },
  "language_info": {
   "codemirror_mode": {
    "name": "ipython",
    "version": 3
   },
   "file_extension": ".py",
   "mimetype": "text/x-python",
   "name": "python",
   "nbconvert_exporter": "python",
   "pygments_lexer": "ipython3",
   "version": "3.5.2"
  }
 },
 "nbformat": 4,
 "nbformat_minor": 0
}
